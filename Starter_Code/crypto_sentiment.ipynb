{
 "cells": [
  {
   "cell_type": "markdown",
   "metadata": {},
   "source": [
    "# Unit 12 - Tales from the Crypto\n",
    "\n",
    "---\n"
   ]
  },
  {
   "cell_type": "markdown",
   "metadata": {},
   "source": [
    "## 1. Sentiment Analysis\n",
    "\n",
    "Use the [newsapi](https://newsapi.org/) to pull the latest news articles for Bitcoin and Ethereum and create a DataFrame of sentiment scores for each coin.\n",
    "\n",
    "Use descriptive statistics to answer the following questions:\n",
    "1. Which coin had the highest mean positive score?\n",
    "2. Which coin had the highest negative score?\n",
    "3. Which coin had the highest positive score?"
   ]
  },
  {
   "cell_type": "code",
   "execution_count": 1,
   "metadata": {},
   "outputs": [
    {
     "name": "stderr",
     "output_type": "stream",
     "text": [
      "[nltk_data] Downloading package vader_lexicon to\n",
      "[nltk_data]     C:\\Users\\torre\\AppData\\Roaming\\nltk_data...\n",
      "[nltk_data]   Package vader_lexicon is already up-to-date!\n"
     ]
    }
   ],
   "source": [
    "# Initial imports\n",
    "import os\n",
    "import pandas as pd\n",
    "from dotenv import load_dotenv\n",
    "import nltk as nltk\n",
    "nltk.download('vader_lexicon')\n",
    "from nltk.sentiment.vader import SentimentIntensityAnalyzer\n",
    "analyzer = SentimentIntensityAnalyzer()\n",
    "\n",
    "%matplotlib inline"
   ]
  },
  {
   "cell_type": "code",
   "execution_count": 2,
   "metadata": {},
   "outputs": [],
   "source": [
    "# Read your api key environment variable\n",
    "load_dotenv()\n",
    "api_key = os.getenv(\"NEW_API_KEY\")"
   ]
  },
  {
   "cell_type": "code",
   "execution_count": 4,
   "metadata": {},
   "outputs": [],
   "source": [
    "# Create a newsapi client\n",
    "from newsapi import NewsApiClient\n",
    "newsapi = NewsApiClient(api_key = api_key)"
   ]
  },
  {
   "cell_type": "code",
   "execution_count": 6,
   "metadata": {},
   "outputs": [],
   "source": [
    "# Fetch the Bitcoin news articles\n",
    "btc_headlines = newsapi.get_everything(\n",
    "    q = \"bitcoin\", language = \"en\", sort_by = \"relevancy\")\n"
   ]
  },
  {
   "cell_type": "code",
   "execution_count": 7,
   "metadata": {},
   "outputs": [],
   "source": [
    "# Fetch the Ethereum news articles\n",
    "eth_headlines = newsapi.get_everything(\n",
    "    q = \"ethereum\", language = \"en\", sort_by = \"relevancy\")"
   ]
  },
  {
   "cell_type": "code",
   "execution_count": 8,
   "metadata": {},
   "outputs": [
    {
     "data": {
      "text/html": [
       "<div>\n",
       "<style scoped>\n",
       "    .dataframe tbody tr th:only-of-type {\n",
       "        vertical-align: middle;\n",
       "    }\n",
       "\n",
       "    .dataframe tbody tr th {\n",
       "        vertical-align: top;\n",
       "    }\n",
       "\n",
       "    .dataframe thead th {\n",
       "        text-align: right;\n",
       "    }\n",
       "</style>\n",
       "<table border=\"1\" class=\"dataframe\">\n",
       "  <thead>\n",
       "    <tr style=\"text-align: right;\">\n",
       "      <th></th>\n",
       "      <th>text</th>\n",
       "      <th>Compound</th>\n",
       "      <th>Positive</th>\n",
       "      <th>Negative</th>\n",
       "      <th>Neutral</th>\n",
       "    </tr>\n",
       "  </thead>\n",
       "  <tbody>\n",
       "    <tr>\n",
       "      <th>0</th>\n",
       "      <td>Even in cyberspace, the Department of Justice ...</td>\n",
       "      <td>0.7351</td>\n",
       "      <td>0.147</td>\n",
       "      <td>0.000</td>\n",
       "      <td>0.853</td>\n",
       "    </tr>\n",
       "    <tr>\n",
       "      <th>1</th>\n",
       "      <td>\"Bitcoin was seen by many of its libertarian-l...</td>\n",
       "      <td>-0.7713</td>\n",
       "      <td>0.000</td>\n",
       "      <td>0.169</td>\n",
       "      <td>0.831</td>\n",
       "    </tr>\n",
       "    <tr>\n",
       "      <th>2</th>\n",
       "      <td>Feb 22 (Reuters) - Bitcoin miners are feeling ...</td>\n",
       "      <td>-0.1779</td>\n",
       "      <td>0.046</td>\n",
       "      <td>0.067</td>\n",
       "      <td>0.887</td>\n",
       "    </tr>\n",
       "    <tr>\n",
       "      <th>3</th>\n",
       "      <td>March 1 (Reuters) - Bitcoin has leapt since Ru...</td>\n",
       "      <td>0.0000</td>\n",
       "      <td>0.000</td>\n",
       "      <td>0.000</td>\n",
       "      <td>1.000</td>\n",
       "    </tr>\n",
       "    <tr>\n",
       "      <th>4</th>\n",
       "      <td>Whose side is cryptocurrency on? If you had as...</td>\n",
       "      <td>-0.3182</td>\n",
       "      <td>0.055</td>\n",
       "      <td>0.091</td>\n",
       "      <td>0.854</td>\n",
       "    </tr>\n",
       "  </tbody>\n",
       "</table>\n",
       "</div>"
      ],
      "text/plain": [
       "                                                text  Compound  Positive  \\\n",
       "0  Even in cyberspace, the Department of Justice ...    0.7351     0.147   \n",
       "1  \"Bitcoin was seen by many of its libertarian-l...   -0.7713     0.000   \n",
       "2  Feb 22 (Reuters) - Bitcoin miners are feeling ...   -0.1779     0.046   \n",
       "3  March 1 (Reuters) - Bitcoin has leapt since Ru...    0.0000     0.000   \n",
       "4  Whose side is cryptocurrency on? If you had as...   -0.3182     0.055   \n",
       "\n",
       "   Negative  Neutral  \n",
       "0     0.000    0.853  \n",
       "1     0.169    0.831  \n",
       "2     0.067    0.887  \n",
       "3     0.000    1.000  \n",
       "4     0.091    0.854  "
      ]
     },
     "execution_count": 8,
     "metadata": {},
     "output_type": "execute_result"
    }
   ],
   "source": [
    "# Create the Bitcoin sentiment scores DataFrame\n",
    "sentiments = []\n",
    "\n",
    "for articles in btc_headlines[\"articles\"]:\n",
    "    try:\n",
    "        text = articles[\"content\"]\n",
    "        results = analyzer.polarity_scores(text)\n",
    "        compound = results[\"compound\"]\n",
    "        pos = results[\"pos\"]\n",
    "        neu = results[\"neu\"]\n",
    "        neg = results[\"neg\"]\n",
    "\n",
    "        sentiments.append({\n",
    "            \"text\": text,\n",
    "            \"Compound\": compound,\n",
    "            \"Positive\": pos,\n",
    "            \"Negative\": neg,\n",
    "            \"Neutral\": neu,\n",
    "        })\n",
    "    except AttributeError:\n",
    "        pass\n",
    "    \n",
    "btc  = pd.DataFrame(sentiments)\n",
    "btc.head()"
   ]
  },
  {
   "cell_type": "code",
   "execution_count": 9,
   "metadata": {},
   "outputs": [
    {
     "data": {
      "text/html": [
       "<div>\n",
       "<style scoped>\n",
       "    .dataframe tbody tr th:only-of-type {\n",
       "        vertical-align: middle;\n",
       "    }\n",
       "\n",
       "    .dataframe tbody tr th {\n",
       "        vertical-align: top;\n",
       "    }\n",
       "\n",
       "    .dataframe thead th {\n",
       "        text-align: right;\n",
       "    }\n",
       "</style>\n",
       "<table border=\"1\" class=\"dataframe\">\n",
       "  <thead>\n",
       "    <tr style=\"text-align: right;\">\n",
       "      <th></th>\n",
       "      <th>text</th>\n",
       "      <th>Compound</th>\n",
       "      <th>Positive</th>\n",
       "      <th>Negative</th>\n",
       "      <th>Neutral</th>\n",
       "    </tr>\n",
       "  </thead>\n",
       "  <tbody>\n",
       "    <tr>\n",
       "      <th>0</th>\n",
       "      <td>In February, shit hit the fan in the usual way...</td>\n",
       "      <td>-0.3182</td>\n",
       "      <td>0.059</td>\n",
       "      <td>0.093</td>\n",
       "      <td>0.848</td>\n",
       "    </tr>\n",
       "    <tr>\n",
       "      <th>1</th>\n",
       "      <td>Technical analysis isnt a perfect tool, but it...</td>\n",
       "      <td>-0.2498</td>\n",
       "      <td>0.000</td>\n",
       "      <td>0.059</td>\n",
       "      <td>0.941</td>\n",
       "    </tr>\n",
       "    <tr>\n",
       "      <th>2</th>\n",
       "      <td>People in Colorado will be able to pay their s...</td>\n",
       "      <td>-0.1027</td>\n",
       "      <td>0.000</td>\n",
       "      <td>0.036</td>\n",
       "      <td>0.964</td>\n",
       "    </tr>\n",
       "    <tr>\n",
       "      <th>3</th>\n",
       "      <td>Coinbase reported that the share of trading vo...</td>\n",
       "      <td>0.6705</td>\n",
       "      <td>0.188</td>\n",
       "      <td>0.000</td>\n",
       "      <td>0.812</td>\n",
       "    </tr>\n",
       "    <tr>\n",
       "      <th>4</th>\n",
       "      <td>Illustration by James Bareham / The Verge\\r\\n\\...</td>\n",
       "      <td>-0.4588</td>\n",
       "      <td>0.000</td>\n",
       "      <td>0.083</td>\n",
       "      <td>0.917</td>\n",
       "    </tr>\n",
       "  </tbody>\n",
       "</table>\n",
       "</div>"
      ],
      "text/plain": [
       "                                                text  Compound  Positive  \\\n",
       "0  In February, shit hit the fan in the usual way...   -0.3182     0.059   \n",
       "1  Technical analysis isnt a perfect tool, but it...   -0.2498     0.000   \n",
       "2  People in Colorado will be able to pay their s...   -0.1027     0.000   \n",
       "3  Coinbase reported that the share of trading vo...    0.6705     0.188   \n",
       "4  Illustration by James Bareham / The Verge\\r\\n\\...   -0.4588     0.000   \n",
       "\n",
       "   Negative  Neutral  \n",
       "0     0.093    0.848  \n",
       "1     0.059    0.941  \n",
       "2     0.036    0.964  \n",
       "3     0.000    0.812  \n",
       "4     0.083    0.917  "
      ]
     },
     "execution_count": 9,
     "metadata": {},
     "output_type": "execute_result"
    }
   ],
   "source": [
    "# Create the Ethereum sentiment scores DataFrame\n",
    "sentiments = []\n",
    "\n",
    "for articles in eth_headlines[\"articles\"]:\n",
    "    try:\n",
    "        text = articles[\"content\"]\n",
    "        results = analyzer.polarity_scores(text)\n",
    "        compound = results[\"compound\"]\n",
    "        pos = results[\"pos\"]\n",
    "        neu = results[\"neu\"]\n",
    "        neg = results[\"neg\"]\n",
    "\n",
    "        sentiments.append({\n",
    "            \"text\": text,\n",
    "            \"Compound\": compound,\n",
    "            \"Positive\": pos,\n",
    "            \"Negative\": neg,\n",
    "            \"Neutral\": neu,\n",
    "        })\n",
    "    except AttributeError:\n",
    "        pass\n",
    "    \n",
    "eth  = pd.DataFrame(sentiments)\n",
    "eth.head()"
   ]
  },
  {
   "cell_type": "code",
   "execution_count": 10,
   "metadata": {},
   "outputs": [
    {
     "data": {
      "text/html": [
       "<div>\n",
       "<style scoped>\n",
       "    .dataframe tbody tr th:only-of-type {\n",
       "        vertical-align: middle;\n",
       "    }\n",
       "\n",
       "    .dataframe tbody tr th {\n",
       "        vertical-align: top;\n",
       "    }\n",
       "\n",
       "    .dataframe thead th {\n",
       "        text-align: right;\n",
       "    }\n",
       "</style>\n",
       "<table border=\"1\" class=\"dataframe\">\n",
       "  <thead>\n",
       "    <tr style=\"text-align: right;\">\n",
       "      <th></th>\n",
       "      <th>Compound</th>\n",
       "      <th>Positive</th>\n",
       "      <th>Negative</th>\n",
       "      <th>Neutral</th>\n",
       "    </tr>\n",
       "  </thead>\n",
       "  <tbody>\n",
       "    <tr>\n",
       "      <th>count</th>\n",
       "      <td>20.000000</td>\n",
       "      <td>20.000000</td>\n",
       "      <td>20.000000</td>\n",
       "      <td>20.000000</td>\n",
       "    </tr>\n",
       "    <tr>\n",
       "      <th>mean</th>\n",
       "      <td>0.018970</td>\n",
       "      <td>0.052900</td>\n",
       "      <td>0.043750</td>\n",
       "      <td>0.903300</td>\n",
       "    </tr>\n",
       "    <tr>\n",
       "      <th>std</th>\n",
       "      <td>0.427134</td>\n",
       "      <td>0.049112</td>\n",
       "      <td>0.061198</td>\n",
       "      <td>0.070857</td>\n",
       "    </tr>\n",
       "    <tr>\n",
       "      <th>min</th>\n",
       "      <td>-0.771300</td>\n",
       "      <td>0.000000</td>\n",
       "      <td>0.000000</td>\n",
       "      <td>0.739000</td>\n",
       "    </tr>\n",
       "    <tr>\n",
       "      <th>25%</th>\n",
       "      <td>-0.231275</td>\n",
       "      <td>0.000000</td>\n",
       "      <td>0.000000</td>\n",
       "      <td>0.853750</td>\n",
       "    </tr>\n",
       "    <tr>\n",
       "      <th>50%</th>\n",
       "      <td>0.000000</td>\n",
       "      <td>0.051500</td>\n",
       "      <td>0.000000</td>\n",
       "      <td>0.913000</td>\n",
       "    </tr>\n",
       "    <tr>\n",
       "      <th>75%</th>\n",
       "      <td>0.345300</td>\n",
       "      <td>0.078250</td>\n",
       "      <td>0.071000</td>\n",
       "      <td>0.952500</td>\n",
       "    </tr>\n",
       "    <tr>\n",
       "      <th>max</th>\n",
       "      <td>0.735100</td>\n",
       "      <td>0.152000</td>\n",
       "      <td>0.187000</td>\n",
       "      <td>1.000000</td>\n",
       "    </tr>\n",
       "  </tbody>\n",
       "</table>\n",
       "</div>"
      ],
      "text/plain": [
       "        Compound   Positive   Negative    Neutral\n",
       "count  20.000000  20.000000  20.000000  20.000000\n",
       "mean    0.018970   0.052900   0.043750   0.903300\n",
       "std     0.427134   0.049112   0.061198   0.070857\n",
       "min    -0.771300   0.000000   0.000000   0.739000\n",
       "25%    -0.231275   0.000000   0.000000   0.853750\n",
       "50%     0.000000   0.051500   0.000000   0.913000\n",
       "75%     0.345300   0.078250   0.071000   0.952500\n",
       "max     0.735100   0.152000   0.187000   1.000000"
      ]
     },
     "execution_count": 10,
     "metadata": {},
     "output_type": "execute_result"
    }
   ],
   "source": [
    "# Describe the Bitcoin Sentiment\n",
    "btc.describe()"
   ]
  },
  {
   "cell_type": "code",
   "execution_count": 11,
   "metadata": {},
   "outputs": [
    {
     "data": {
      "text/html": [
       "<div>\n",
       "<style scoped>\n",
       "    .dataframe tbody tr th:only-of-type {\n",
       "        vertical-align: middle;\n",
       "    }\n",
       "\n",
       "    .dataframe tbody tr th {\n",
       "        vertical-align: top;\n",
       "    }\n",
       "\n",
       "    .dataframe thead th {\n",
       "        text-align: right;\n",
       "    }\n",
       "</style>\n",
       "<table border=\"1\" class=\"dataframe\">\n",
       "  <thead>\n",
       "    <tr style=\"text-align: right;\">\n",
       "      <th></th>\n",
       "      <th>Compound</th>\n",
       "      <th>Positive</th>\n",
       "      <th>Negative</th>\n",
       "      <th>Neutral</th>\n",
       "    </tr>\n",
       "  </thead>\n",
       "  <tbody>\n",
       "    <tr>\n",
       "      <th>count</th>\n",
       "      <td>20.000000</td>\n",
       "      <td>20.000000</td>\n",
       "      <td>20.000000</td>\n",
       "      <td>20.000000</td>\n",
       "    </tr>\n",
       "    <tr>\n",
       "      <th>mean</th>\n",
       "      <td>0.133310</td>\n",
       "      <td>0.071000</td>\n",
       "      <td>0.032200</td>\n",
       "      <td>0.896750</td>\n",
       "    </tr>\n",
       "    <tr>\n",
       "      <th>std</th>\n",
       "      <td>0.409553</td>\n",
       "      <td>0.084548</td>\n",
       "      <td>0.040875</td>\n",
       "      <td>0.093457</td>\n",
       "    </tr>\n",
       "    <tr>\n",
       "      <th>min</th>\n",
       "      <td>-0.526700</td>\n",
       "      <td>0.000000</td>\n",
       "      <td>0.000000</td>\n",
       "      <td>0.692000</td>\n",
       "    </tr>\n",
       "    <tr>\n",
       "      <th>25%</th>\n",
       "      <td>-0.110175</td>\n",
       "      <td>0.000000</td>\n",
       "      <td>0.000000</td>\n",
       "      <td>0.841000</td>\n",
       "    </tr>\n",
       "    <tr>\n",
       "      <th>50%</th>\n",
       "      <td>0.000000</td>\n",
       "      <td>0.051500</td>\n",
       "      <td>0.000000</td>\n",
       "      <td>0.913000</td>\n",
       "    </tr>\n",
       "    <tr>\n",
       "      <th>75%</th>\n",
       "      <td>0.528675</td>\n",
       "      <td>0.120500</td>\n",
       "      <td>0.059000</td>\n",
       "      <td>0.973000</td>\n",
       "    </tr>\n",
       "    <tr>\n",
       "      <th>max</th>\n",
       "      <td>0.834000</td>\n",
       "      <td>0.249000</td>\n",
       "      <td>0.115000</td>\n",
       "      <td>1.000000</td>\n",
       "    </tr>\n",
       "  </tbody>\n",
       "</table>\n",
       "</div>"
      ],
      "text/plain": [
       "        Compound   Positive   Negative    Neutral\n",
       "count  20.000000  20.000000  20.000000  20.000000\n",
       "mean    0.133310   0.071000   0.032200   0.896750\n",
       "std     0.409553   0.084548   0.040875   0.093457\n",
       "min    -0.526700   0.000000   0.000000   0.692000\n",
       "25%    -0.110175   0.000000   0.000000   0.841000\n",
       "50%     0.000000   0.051500   0.000000   0.913000\n",
       "75%     0.528675   0.120500   0.059000   0.973000\n",
       "max     0.834000   0.249000   0.115000   1.000000"
      ]
     },
     "execution_count": 11,
     "metadata": {},
     "output_type": "execute_result"
    }
   ],
   "source": [
    "# Describe the Ethereum Sentiment\n",
    "eth.describe()"
   ]
  },
  {
   "cell_type": "markdown",
   "metadata": {},
   "source": [
    "### Questions:\n",
    "\n",
    "Q: Which coin had the highest mean positive score?\n",
    "\n",
    "A: Ethereum has the higher mean positve score.\n",
    "\n",
    "Q: Which coin had the highest compound score?\n",
    "\n",
    "A: Ethereum has the highest compound score. \n",
    "\n",
    "Q. Which coin had the highest positive score?\n",
    "\n",
    "A: Ethereum has the highest positve score on this day. "
   ]
  },
  {
   "cell_type": "markdown",
   "metadata": {},
   "source": [
    "---"
   ]
  },
  {
   "cell_type": "markdown",
   "metadata": {},
   "source": [
    "## 2. Natural Language Processing\n",
    "---\n",
    "###   Tokenizer\n",
    "\n",
    "In this section, you will use NLTK and Python to tokenize the text for each coin. Be sure to:\n",
    "1. Lowercase each word.\n",
    "2. Remove Punctuation.\n",
    "3. Remove Stopwords."
   ]
  },
  {
   "cell_type": "code",
   "execution_count": 12,
   "metadata": {},
   "outputs": [],
   "source": [
    "from nltk.tokenize import word_tokenize, sent_tokenize\n",
    "from nltk.corpus import stopwords\n",
    "from nltk.stem import WordNetLemmatizer, PorterStemmer\n",
    "from string import punctuation\n",
    "import re"
   ]
  },
  {
   "cell_type": "code",
   "execution_count": 13,
   "metadata": {},
   "outputs": [],
   "source": [
    "# Instantiate the lemmatizer\n",
    "wnl = WordNetLemmatizer()\n",
    "\n",
    "# Create a list of stopwords\n",
    "stop = stopwords.words(\"english\")\n",
    "\n",
    "# Expand the default stopwords list if necessary\n",
    "stop.append(\"u\")\n",
    "stop.append(\"it'\")\n",
    "stop.append(\"'s\")\n",
    "stop.append(\"n't\")\n",
    "stop.append('…')\n",
    "stop.append(\"\\`\")\n",
    "stop.append('``')\n",
    "stop.append('char')\n",
    "stop.append(\"''\")\n",
    "stop = set(stop)"
   ]
  },
  {
   "cell_type": "code",
   "execution_count": 19,
   "metadata": {},
   "outputs": [],
   "source": [
    "# Complete the tokenizer function\n",
    "def tokenizer(text):\n",
    "    \"\"\"Tokenizes text.\"\"\"\n",
    "    words = word_tokenize(text)\n",
    "\n",
    "    # Remove the punctuation from text\n",
    "    words = list(\n",
    "        filter(lambda t: t not in punctuation, words))\n",
    "   \n",
    "    # Convert the words to lowercase\n",
    "    \n",
    "    words = list(\n",
    "        filter(lambda t: t.lower(), words))\n",
    "    \n",
    "    # Remove the stop words\n",
    "   \n",
    "    words = list(\n",
    "        filter(lambda t: t.lower() not in stop, words))\n",
    "      \n",
    "    # Lemmatize words into root words\n",
    "    tokens = [wnl.lemmatize(word) for word in words]\n",
    "    \n",
    "    return tokens"
   ]
  },
  {
   "cell_type": "code",
   "execution_count": 20,
   "metadata": {},
   "outputs": [
    {
     "data": {
      "text/html": [
       "<div>\n",
       "<style scoped>\n",
       "    .dataframe tbody tr th:only-of-type {\n",
       "        vertical-align: middle;\n",
       "    }\n",
       "\n",
       "    .dataframe tbody tr th {\n",
       "        vertical-align: top;\n",
       "    }\n",
       "\n",
       "    .dataframe thead th {\n",
       "        text-align: right;\n",
       "    }\n",
       "</style>\n",
       "<table border=\"1\" class=\"dataframe\">\n",
       "  <thead>\n",
       "    <tr style=\"text-align: right;\">\n",
       "      <th></th>\n",
       "      <th>text</th>\n",
       "      <th>Compound</th>\n",
       "      <th>Positive</th>\n",
       "      <th>Negative</th>\n",
       "      <th>Neutral</th>\n",
       "      <th>tokens</th>\n",
       "    </tr>\n",
       "  </thead>\n",
       "  <tbody>\n",
       "    <tr>\n",
       "      <th>0</th>\n",
       "      <td>Even in cyberspace, the Department of Justice ...</td>\n",
       "      <td>0.7351</td>\n",
       "      <td>0.147</td>\n",
       "      <td>0.000</td>\n",
       "      <td>0.853</td>\n",
       "      <td>[Even, cyberspace, Department, Justice, able, ...</td>\n",
       "    </tr>\n",
       "    <tr>\n",
       "      <th>1</th>\n",
       "      <td>\"Bitcoin was seen by many of its libertarian-l...</td>\n",
       "      <td>-0.7713</td>\n",
       "      <td>0.000</td>\n",
       "      <td>0.169</td>\n",
       "      <td>0.831</td>\n",
       "      <td>[Bitcoin, seen, many, libertarian-leaning, fan...</td>\n",
       "    </tr>\n",
       "    <tr>\n",
       "      <th>2</th>\n",
       "      <td>Feb 22 (Reuters) - Bitcoin miners are feeling ...</td>\n",
       "      <td>-0.1779</td>\n",
       "      <td>0.046</td>\n",
       "      <td>0.067</td>\n",
       "      <td>0.887</td>\n",
       "      <td>[Feb, 22, Reuters, Bitcoin, miner, feeling, he...</td>\n",
       "    </tr>\n",
       "    <tr>\n",
       "      <th>3</th>\n",
       "      <td>March 1 (Reuters) - Bitcoin has leapt since Ru...</td>\n",
       "      <td>0.0000</td>\n",
       "      <td>0.000</td>\n",
       "      <td>0.000</td>\n",
       "      <td>1.000</td>\n",
       "      <td>[March, 1, Reuters, Bitcoin, leapt, since, Rus...</td>\n",
       "    </tr>\n",
       "    <tr>\n",
       "      <th>4</th>\n",
       "      <td>Whose side is cryptocurrency on? If you had as...</td>\n",
       "      <td>-0.3182</td>\n",
       "      <td>0.055</td>\n",
       "      <td>0.091</td>\n",
       "      <td>0.854</td>\n",
       "      <td>[Whose, side, cryptocurrency, asked, Satoshi, ...</td>\n",
       "    </tr>\n",
       "  </tbody>\n",
       "</table>\n",
       "</div>"
      ],
      "text/plain": [
       "                                                text  Compound  Positive  \\\n",
       "0  Even in cyberspace, the Department of Justice ...    0.7351     0.147   \n",
       "1  \"Bitcoin was seen by many of its libertarian-l...   -0.7713     0.000   \n",
       "2  Feb 22 (Reuters) - Bitcoin miners are feeling ...   -0.1779     0.046   \n",
       "3  March 1 (Reuters) - Bitcoin has leapt since Ru...    0.0000     0.000   \n",
       "4  Whose side is cryptocurrency on? If you had as...   -0.3182     0.055   \n",
       "\n",
       "   Negative  Neutral                                             tokens  \n",
       "0     0.000    0.853  [Even, cyberspace, Department, Justice, able, ...  \n",
       "1     0.169    0.831  [Bitcoin, seen, many, libertarian-leaning, fan...  \n",
       "2     0.067    0.887  [Feb, 22, Reuters, Bitcoin, miner, feeling, he...  \n",
       "3     0.000    1.000  [March, 1, Reuters, Bitcoin, leapt, since, Rus...  \n",
       "4     0.091    0.854  [Whose, side, cryptocurrency, asked, Satoshi, ...  "
      ]
     },
     "execution_count": 20,
     "metadata": {},
     "output_type": "execute_result"
    }
   ],
   "source": [
    "# Create a new tokens column for Bitcoin\n",
    "btc[\"tokens\"] = btc.text.apply(tokenizer)\n",
    "btc.head()"
   ]
  },
  {
   "cell_type": "code",
   "execution_count": 21,
   "metadata": {},
   "outputs": [
    {
     "data": {
      "text/html": [
       "<div>\n",
       "<style scoped>\n",
       "    .dataframe tbody tr th:only-of-type {\n",
       "        vertical-align: middle;\n",
       "    }\n",
       "\n",
       "    .dataframe tbody tr th {\n",
       "        vertical-align: top;\n",
       "    }\n",
       "\n",
       "    .dataframe thead th {\n",
       "        text-align: right;\n",
       "    }\n",
       "</style>\n",
       "<table border=\"1\" class=\"dataframe\">\n",
       "  <thead>\n",
       "    <tr style=\"text-align: right;\">\n",
       "      <th></th>\n",
       "      <th>text</th>\n",
       "      <th>Compound</th>\n",
       "      <th>Positive</th>\n",
       "      <th>Negative</th>\n",
       "      <th>Neutral</th>\n",
       "      <th>tokens</th>\n",
       "    </tr>\n",
       "  </thead>\n",
       "  <tbody>\n",
       "    <tr>\n",
       "      <th>0</th>\n",
       "      <td>In February, shit hit the fan in the usual way...</td>\n",
       "      <td>-0.3182</td>\n",
       "      <td>0.059</td>\n",
       "      <td>0.093</td>\n",
       "      <td>0.848</td>\n",
       "      <td>[February, shit, hit, fan, usual, way, old, tw...</td>\n",
       "    </tr>\n",
       "    <tr>\n",
       "      <th>1</th>\n",
       "      <td>Technical analysis isnt a perfect tool, but it...</td>\n",
       "      <td>-0.2498</td>\n",
       "      <td>0.000</td>\n",
       "      <td>0.059</td>\n",
       "      <td>0.941</td>\n",
       "      <td>[Technical, analysis, isnt, perfect, tool, may...</td>\n",
       "    </tr>\n",
       "    <tr>\n",
       "      <th>2</th>\n",
       "      <td>People in Colorado will be able to pay their s...</td>\n",
       "      <td>-0.1027</td>\n",
       "      <td>0.000</td>\n",
       "      <td>0.036</td>\n",
       "      <td>0.964</td>\n",
       "      <td>[People, Colorado, able, pay, state, tax, cryp...</td>\n",
       "    </tr>\n",
       "    <tr>\n",
       "      <th>3</th>\n",
       "      <td>Coinbase reported that the share of trading vo...</td>\n",
       "      <td>0.6705</td>\n",
       "      <td>0.188</td>\n",
       "      <td>0.000</td>\n",
       "      <td>0.812</td>\n",
       "      <td>[Coinbase, reported, share, trading, volume, e...</td>\n",
       "    </tr>\n",
       "    <tr>\n",
       "      <th>4</th>\n",
       "      <td>Illustration by James Bareham / The Verge\\r\\n\\...</td>\n",
       "      <td>-0.4588</td>\n",
       "      <td>0.000</td>\n",
       "      <td>0.083</td>\n",
       "      <td>0.917</td>\n",
       "      <td>[Illustration, James, Bareham, Verge, 15, mill...</td>\n",
       "    </tr>\n",
       "  </tbody>\n",
       "</table>\n",
       "</div>"
      ],
      "text/plain": [
       "                                                text  Compound  Positive  \\\n",
       "0  In February, shit hit the fan in the usual way...   -0.3182     0.059   \n",
       "1  Technical analysis isnt a perfect tool, but it...   -0.2498     0.000   \n",
       "2  People in Colorado will be able to pay their s...   -0.1027     0.000   \n",
       "3  Coinbase reported that the share of trading vo...    0.6705     0.188   \n",
       "4  Illustration by James Bareham / The Verge\\r\\n\\...   -0.4588     0.000   \n",
       "\n",
       "   Negative  Neutral                                             tokens  \n",
       "0     0.093    0.848  [February, shit, hit, fan, usual, way, old, tw...  \n",
       "1     0.059    0.941  [Technical, analysis, isnt, perfect, tool, may...  \n",
       "2     0.036    0.964  [People, Colorado, able, pay, state, tax, cryp...  \n",
       "3     0.000    0.812  [Coinbase, reported, share, trading, volume, e...  \n",
       "4     0.083    0.917  [Illustration, James, Bareham, Verge, 15, mill...  "
      ]
     },
     "execution_count": 21,
     "metadata": {},
     "output_type": "execute_result"
    }
   ],
   "source": [
    "# Create a new tokens column for Ethereum\n",
    "eth[\"tokens\"] = eth.text.apply(tokenizer)\n",
    "eth.head()"
   ]
  },
  {
   "cell_type": "markdown",
   "metadata": {},
   "source": [
    "---"
   ]
  },
  {
   "cell_type": "markdown",
   "metadata": {},
   "source": [
    "### NGrams and Frequency Analysis\n",
    "\n",
    "In this section you will look at the ngrams and word frequency for each coin. \n",
    "\n",
    "1. Use NLTK to produce the n-grams for N = 2. \n",
    "2. List the top 10 words for each coin. "
   ]
  },
  {
   "cell_type": "code",
   "execution_count": 22,
   "metadata": {},
   "outputs": [],
   "source": [
    "from collections import Counter\n",
    "from nltk import ngrams"
   ]
  },
  {
   "cell_type": "code",
   "execution_count": 23,
   "metadata": {},
   "outputs": [
    {
     "data": {
      "text/plain": [
       "[(('Reuters', 'Bitcoin'), 3),\n",
       " (('since', 'Russia'), 3),\n",
       " (('char', 'Bitcoin'), 2),\n",
       " (('char', 'Feb'), 2),\n",
       " (('char', 'March'), 2),\n",
       " (('March', '15'), 2),\n",
       " (('/li', 'li'), 2),\n",
       " (('char', 'SAN'), 2),\n",
       " (('SAN', 'SALVADOR'), 2),\n",
       " (('Reuters', 'El'), 2),\n",
       " (('El', 'Salvador'), 2),\n",
       " (('Central', 'American'), 2),\n",
       " (('15', 'million'), 2),\n",
       " (('Even', 'cyberspace'), 1),\n",
       " (('cyberspace', 'Department'), 1),\n",
       " (('Department', 'Justice'), 1),\n",
       " (('Justice', 'able'), 1),\n",
       " (('able', 'use'), 1),\n",
       " (('use', 'tried'), 1),\n",
       " (('tried', 'true'), 1)]"
      ]
     },
     "execution_count": 23,
     "metadata": {},
     "output_type": "execute_result"
    }
   ],
   "source": [
    "# Generate the Bitcoin N-grams where N=2\n",
    "N = 2 \n",
    "grams = ngrams(tokenizer(btc.text.str.cat()), N)\n",
    "Counter(grams).most_common(20)"
   ]
  },
  {
   "cell_type": "code",
   "execution_count": 24,
   "metadata": {},
   "outputs": [
    {
     "data": {
      "text/plain": [
       "[(('char', 'cryptocurrency'), 3),\n",
       " (('cryptocurrency', 'boom'), 3),\n",
       " (('boom', 'past'), 3),\n",
       " (('past', 'year'), 3),\n",
       " (('year', 'helped'), 3),\n",
       " (('helped', 'propel'), 3),\n",
       " (('propel', 'newer'), 3),\n",
       " (('newer', 'market'), 3),\n",
       " (('market', 'record'), 3),\n",
       " (('record', 'height'), 3),\n",
       " (('height', 'digital'), 3),\n",
       " (('digital', 'collectible'), 3),\n",
       " (('collectible', 'known'), 3),\n",
       " (('known', 'NFTs'), 3),\n",
       " (('NFTs', 'fact'), 3),\n",
       " (('fact', 'total'), 3),\n",
       " (('total', 'NFT'), 3),\n",
       " (('NFT', 'sale'), 3),\n",
       " (('sale', 'volume'), 3),\n",
       " (('volume', 'hit'), 3)]"
      ]
     },
     "execution_count": 24,
     "metadata": {},
     "output_type": "execute_result"
    }
   ],
   "source": [
    "# Generate the Ethereum N-grams where N=2\n",
    "N = 2 \n",
    "grams = ngrams(tokenizer(eth.text.str.cat()), N)\n",
    "Counter(grams).most_common(20)"
   ]
  },
  {
   "cell_type": "code",
   "execution_count": 25,
   "metadata": {},
   "outputs": [],
   "source": [
    "# Function token_count generates the top 10 words for a given coin\n",
    "def token_count(tokens, N=3):\n",
    "    \"\"\"Returns the top N tokens from the frequency count\"\"\"\n",
    "    return Counter(tokens).most_common(N)"
   ]
  },
  {
   "cell_type": "code",
   "execution_count": 27,
   "metadata": {},
   "outputs": [
    {
     "data": {
      "text/plain": [
       "[('char', 20),\n",
       " ('Bitcoin', 10),\n",
       " ('Reuters', 7),\n",
       " ('Russia', 6),\n",
       " ('March', 5),\n",
       " ('cryptocurrency', 4),\n",
       " ('Ukraine', 4),\n",
       " ('bitcoin', 4),\n",
       " ('15', 4),\n",
       " ('said', 3)]"
      ]
     },
     "execution_count": 27,
     "metadata": {},
     "output_type": "execute_result"
    }
   ],
   "source": [
    "# Use token_count to get the top 10 words for Bitcoin\n",
    "alltokens = tokenizer(btc.text.str.cat())\n",
    "token_count(alltokens,10)"
   ]
  },
  {
   "cell_type": "code",
   "execution_count": 28,
   "metadata": {},
   "outputs": [
    {
     "data": {
      "text/plain": [
       "[('char', 20),\n",
       " ('Ethereum', 5),\n",
       " ('cryptocurrency', 5),\n",
       " ('year', 5),\n",
       " ('volume', 5),\n",
       " ('past', 5),\n",
       " ('hit', 4),\n",
       " ('crypto', 4),\n",
       " ('NFTs', 4),\n",
       " ('newsletter', 4)]"
      ]
     },
     "execution_count": 28,
     "metadata": {},
     "output_type": "execute_result"
    }
   ],
   "source": [
    "# Use token_count to get the top 10 words for Ethereum\n",
    "alltokens = tokenizer(eth.text.str.cat())\n",
    "token_count(alltokens,10)"
   ]
  },
  {
   "cell_type": "markdown",
   "metadata": {},
   "source": [
    "---"
   ]
  },
  {
   "cell_type": "markdown",
   "metadata": {},
   "source": [
    "### Word Clouds\n",
    "\n",
    "In this section, you will generate word clouds for each coin to summarize the news for each coin"
   ]
  },
  {
   "cell_type": "code",
   "execution_count": 21,
   "metadata": {},
   "outputs": [],
   "source": [
    "from wordcloud import WordCloud\n",
    "import matplotlib.pyplot as plt\n",
    "plt.style.use('seaborn-whitegrid')\n",
    "import matplotlib as mpl\n",
    "mpl.rcParams['figure.figsize'] = [20.0, 10.0]"
   ]
  },
  {
   "cell_type": "code",
   "execution_count": 22,
   "metadata": {},
   "outputs": [],
   "source": [
    "# Generate the Bitcoin word cloud\n",
    "# YOUR CODE HERE!"
   ]
  },
  {
   "cell_type": "code",
   "execution_count": 23,
   "metadata": {},
   "outputs": [],
   "source": [
    "# Generate the Ethereum word cloud\n",
    "# YOUR CODE HERE!"
   ]
  },
  {
   "cell_type": "markdown",
   "metadata": {},
   "source": [
    "---\n",
    "## 3. Named Entity Recognition\n",
    "\n",
    "In this section, you will build a named entity recognition model for both Bitcoin and Ethereum, then visualize the tags using SpaCy."
   ]
  },
  {
   "cell_type": "code",
   "execution_count": 24,
   "metadata": {},
   "outputs": [],
   "source": [
    "import spacy\n",
    "from spacy import displacy"
   ]
  },
  {
   "cell_type": "code",
   "execution_count": 25,
   "metadata": {},
   "outputs": [],
   "source": [
    "# Download the language model for SpaCy\n",
    "# !python -m spacy download en_core_web_sm"
   ]
  },
  {
   "cell_type": "code",
   "execution_count": 26,
   "metadata": {},
   "outputs": [],
   "source": [
    "# Load the spaCy model\n",
    "nlp = spacy.load('en_core_web_sm')"
   ]
  },
  {
   "cell_type": "markdown",
   "metadata": {},
   "source": [
    "---\n",
    "### Bitcoin NER"
   ]
  },
  {
   "cell_type": "code",
   "execution_count": 27,
   "metadata": {},
   "outputs": [],
   "source": [
    "# Concatenate all of the Bitcoin text together\n",
    "# YOUR CODE HERE!"
   ]
  },
  {
   "cell_type": "code",
   "execution_count": 28,
   "metadata": {},
   "outputs": [],
   "source": [
    "# Run the NER processor on all of the text\n",
    "# YOUR CODE HERE!\n",
    "\n",
    "# Add a title to the document\n",
    "# YOUR CODE HERE!"
   ]
  },
  {
   "cell_type": "code",
   "execution_count": 29,
   "metadata": {},
   "outputs": [],
   "source": [
    "# Render the visualization\n",
    "# YOUR CODE HERE!"
   ]
  },
  {
   "cell_type": "code",
   "execution_count": 30,
   "metadata": {},
   "outputs": [],
   "source": [
    "# List all Entities\n",
    "# YOUR CODE HERE!"
   ]
  },
  {
   "cell_type": "markdown",
   "metadata": {},
   "source": [
    "---"
   ]
  },
  {
   "cell_type": "markdown",
   "metadata": {},
   "source": [
    "### Ethereum NER"
   ]
  },
  {
   "cell_type": "code",
   "execution_count": 31,
   "metadata": {},
   "outputs": [],
   "source": [
    "# Concatenate all of the Ethereum text together\n",
    "# YOUR CODE HERE!"
   ]
  },
  {
   "cell_type": "code",
   "execution_count": 32,
   "metadata": {},
   "outputs": [],
   "source": [
    "# Run the NER processor on all of the text\n",
    "# YOUR CODE HERE!\n",
    "\n",
    "# Add a title to the document\n",
    "# YOUR CODE HERE!"
   ]
  },
  {
   "cell_type": "code",
   "execution_count": 33,
   "metadata": {},
   "outputs": [],
   "source": [
    "# Render the visualization\n",
    "# YOUR CODE HERE!"
   ]
  },
  {
   "cell_type": "code",
   "execution_count": 34,
   "metadata": {},
   "outputs": [],
   "source": [
    "# List all Entities\n",
    "# YOUR CODE HERE!"
   ]
  },
  {
   "cell_type": "markdown",
   "metadata": {},
   "source": [
    "---"
   ]
  }
 ],
 "metadata": {
  "file_extension": ".py",
  "kernelspec": {
   "display_name": "Python 3 (ipykernel)",
   "language": "python",
   "name": "python3"
  },
  "language_info": {
   "codemirror_mode": {
    "name": "ipython",
    "version": 3
   },
   "file_extension": ".py",
   "mimetype": "text/x-python",
   "name": "python",
   "nbconvert_exporter": "python",
   "pygments_lexer": "ipython3",
   "version": "3.7.11"
  },
  "mimetype": "text/x-python",
  "name": "python",
  "npconvert_exporter": "python",
  "pygments_lexer": "ipython3",
  "version": 3
 },
 "nbformat": 4,
 "nbformat_minor": 4
}
